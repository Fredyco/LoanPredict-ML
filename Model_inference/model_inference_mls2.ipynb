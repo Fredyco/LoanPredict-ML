{
 "cells": [
  {
   "cell_type": "markdown",
   "metadata": {},
   "source": [
    "# Import Library"
   ]
  },
  {
   "cell_type": "markdown",
   "metadata": {},
   "source": [
    "Import Library yang akan digunakan"
   ]
  },
  {
   "cell_type": "code",
   "execution_count": 1,
   "metadata": {},
   "outputs": [],
   "source": [
    "import pickle # Untuk load model\n",
    "import json # Untuk load list\n",
    "import pandas as pd\n",
    "import numpy as np"
   ]
  },
  {
   "cell_type": "markdown",
   "metadata": {},
   "source": [
    "# Load Model"
   ]
  },
  {
   "cell_type": "markdown",
   "metadata": {},
   "source": [
    "Load model dan list yang telah dibuat"
   ]
  },
  {
   "cell_type": "code",
   "execution_count": 2,
   "metadata": {},
   "outputs": [],
   "source": [
    "with open(\"best_model_dtr.pkl\", \"rb\") as file_1:\n",
    "    best_model_dtr = pickle.load(file_1)\n",
    "\n",
    "with open(\"list_num_cols.txt\", \"r\") as file_2:\n",
    "    list_num_cols = json.load(file_2)\n",
    "\n",
    "with open(\"list_catn_cols.txt\", \"r\") as file_3:\n",
    "    list_catn_cols = json.load(file_3)"
   ]
  },
  {
   "cell_type": "code",
   "execution_count": null,
   "metadata": {},
   "outputs": [],
   "source": [
    "{'Loan_ID': {1: 'LP001003',\n",
    "  2: 'LP001005',\n",
    "  3: 'LP001006',\n",
    "  4: 'LP001008',\n",
    "  5: 'LP001011'},\n",
    " 'Gender': {1: 'Male', 2: 'Male', 3: 'Male', 4: 'Male', 5: 'Male'},\n",
    " 'Married': {1: 'Yes', 2: 'Yes', 3: 'Yes', 4: 'No', 5: 'Yes'},\n",
    " 'Dependents': {1: '1', 2: '0', 3: '0', 4: '0', 5: '2'},\n",
    " 'Education': {1: 'Graduate',\n",
    "  2: 'Graduate',\n",
    "  3: 'Not Graduate',\n",
    "  4: 'Graduate',\n",
    "  5: 'Graduate'},\n",
    " 'Self_Employed': {1: 'No', 2: 'Yes', 3: 'No', 4: 'No', 5: 'Yes'},\n",
    " 'ApplicantIncome': {1: 4583, 2: 3000, 3: 2583, 4: 6000, 5: 5417},\n",
    " 'CoapplicantIncome': {1: 1508.0, 2: 0.0, 3: 2358.0, 4: 0.0, 5: 4196.0},\n",
    " 'LoanAmount': {1: 128.0, 2: 66.0, 3: 120.0, 4: 141.0, 5: 267.0},\n",
    " 'Loan_Amount_Term': {1: 360.0, 2: 360.0, 3: 360.0, 4: 360.0, 5: 360.0},\n",
    " 'Credit_History': {1: 1.0, 2: 1.0, 3: 1.0, 4: 1.0, 5: 1.0},\n",
    " 'Property_Area': {1: 'Rural', 2: 'Urban', 3: 'Urban', 4: 'Urban', 5: 'Urban'},\n",
    " 'Loan_Status': {1: False, 2: True, 3: True, 4: True, 5: True}}"
   ]
  },
  {
   "cell_type": "markdown",
   "metadata": {},
   "source": [
    "# Data Loading"
   ]
  },
  {
   "cell_type": "markdown",
   "metadata": {},
   "source": [
    "Buat data dummy untuk mencoba menjalankan model"
   ]
  },
  {
   "cell_type": "code",
   "execution_count": 7,
   "metadata": {},
   "outputs": [],
   "source": [
    "data = {\n",
    " 'Gender': {1: 'Female', 2: 'Male', 3: 'Female', 4: 'Male', 5: 'Male'},\n",
    " 'Married': {1: 'No', 2: 'No', 3: 'Yes', 4: 'No', 5: 'Yes'},\n",
    " 'Dependents': {1: '1', 2: '2', 3: '0', 4: '0', 5: '3+'},\n",
    " 'Education': {1: 'Not Graduate',\n",
    "  2: 'Graduate',\n",
    "  3: 'Not Graduate',\n",
    "  4: 'Not Graduate',\n",
    "  5: 'Graduate'},\n",
    " 'Self_Employed': {1: 'Yes', 2: 'No', 3: 'Yes', 4: 'No', 5: 'No'},\n",
    " 'ApplicantIncome': {1: 7035, 2: 2500, 3: 3000, 4: 2000, 5: 4500},\n",
    " 'CoapplicantIncome': {1: 0.0, 2: 0.0, 3: 4000.0, 4: 0.0, 5: 5000.0},\n",
    " 'LoanAmount': {1: 250.0, 2: 100.0, 3: 150.0, 4: 300.0, 5: 400.0},\n",
    " 'Loan_Amount_Term': {1: 120.0, 2: 480.0, 3: 360.0, 4: 60.0, 5: 36.0},\n",
    " 'Credit_History': {1: 0.0, 2: 1.0, 3: 0.0, 4: 1.0, 5: 1.0},\n",
    " 'Property_Area': {1: 'Semiurban', 2: 'Urban', 3: 'Rural', 4: 'Semiurban', 5: 'Urban'}}"
   ]
  },
  {
   "cell_type": "markdown",
   "metadata": {},
   "source": [
    "Variabel Dict dijadikan DataFrame"
   ]
  },
  {
   "cell_type": "code",
   "execution_count": 8,
   "metadata": {},
   "outputs": [
    {
     "data": {
      "text/html": [
       "<div>\n",
       "<style scoped>\n",
       "    .dataframe tbody tr th:only-of-type {\n",
       "        vertical-align: middle;\n",
       "    }\n",
       "\n",
       "    .dataframe tbody tr th {\n",
       "        vertical-align: top;\n",
       "    }\n",
       "\n",
       "    .dataframe thead th {\n",
       "        text-align: right;\n",
       "    }\n",
       "</style>\n",
       "<table border=\"1\" class=\"dataframe\">\n",
       "  <thead>\n",
       "    <tr style=\"text-align: right;\">\n",
       "      <th></th>\n",
       "      <th>Gender</th>\n",
       "      <th>Married</th>\n",
       "      <th>Dependents</th>\n",
       "      <th>Education</th>\n",
       "      <th>Self_Employed</th>\n",
       "      <th>ApplicantIncome</th>\n",
       "      <th>CoapplicantIncome</th>\n",
       "      <th>LoanAmount</th>\n",
       "      <th>Loan_Amount_Term</th>\n",
       "      <th>Credit_History</th>\n",
       "      <th>Property_Area</th>\n",
       "    </tr>\n",
       "  </thead>\n",
       "  <tbody>\n",
       "    <tr>\n",
       "      <th>1</th>\n",
       "      <td>Female</td>\n",
       "      <td>No</td>\n",
       "      <td>1</td>\n",
       "      <td>Not Graduate</td>\n",
       "      <td>Yes</td>\n",
       "      <td>7035</td>\n",
       "      <td>0.0</td>\n",
       "      <td>250.0</td>\n",
       "      <td>120.0</td>\n",
       "      <td>0.0</td>\n",
       "      <td>Semiurban</td>\n",
       "    </tr>\n",
       "    <tr>\n",
       "      <th>2</th>\n",
       "      <td>Male</td>\n",
       "      <td>No</td>\n",
       "      <td>2</td>\n",
       "      <td>Graduate</td>\n",
       "      <td>No</td>\n",
       "      <td>2500</td>\n",
       "      <td>0.0</td>\n",
       "      <td>100.0</td>\n",
       "      <td>480.0</td>\n",
       "      <td>1.0</td>\n",
       "      <td>Urban</td>\n",
       "    </tr>\n",
       "    <tr>\n",
       "      <th>3</th>\n",
       "      <td>Female</td>\n",
       "      <td>Yes</td>\n",
       "      <td>0</td>\n",
       "      <td>Not Graduate</td>\n",
       "      <td>Yes</td>\n",
       "      <td>3000</td>\n",
       "      <td>4000.0</td>\n",
       "      <td>150.0</td>\n",
       "      <td>360.0</td>\n",
       "      <td>0.0</td>\n",
       "      <td>Rural</td>\n",
       "    </tr>\n",
       "    <tr>\n",
       "      <th>4</th>\n",
       "      <td>Male</td>\n",
       "      <td>No</td>\n",
       "      <td>0</td>\n",
       "      <td>Not Graduate</td>\n",
       "      <td>No</td>\n",
       "      <td>2000</td>\n",
       "      <td>0.0</td>\n",
       "      <td>300.0</td>\n",
       "      <td>60.0</td>\n",
       "      <td>1.0</td>\n",
       "      <td>Semiurban</td>\n",
       "    </tr>\n",
       "    <tr>\n",
       "      <th>5</th>\n",
       "      <td>Male</td>\n",
       "      <td>Yes</td>\n",
       "      <td>3+</td>\n",
       "      <td>Graduate</td>\n",
       "      <td>No</td>\n",
       "      <td>4500</td>\n",
       "      <td>5000.0</td>\n",
       "      <td>400.0</td>\n",
       "      <td>36.0</td>\n",
       "      <td>1.0</td>\n",
       "      <td>Urban</td>\n",
       "    </tr>\n",
       "  </tbody>\n",
       "</table>\n",
       "</div>"
      ],
      "text/plain": [
       "   Gender Married Dependents     Education Self_Employed  ApplicantIncome  \\\n",
       "1  Female      No          1  Not Graduate           Yes             7035   \n",
       "2    Male      No          2      Graduate            No             2500   \n",
       "3  Female     Yes          0  Not Graduate           Yes             3000   \n",
       "4    Male      No          0  Not Graduate            No             2000   \n",
       "5    Male     Yes         3+      Graduate            No             4500   \n",
       "\n",
       "   CoapplicantIncome  LoanAmount  Loan_Amount_Term  Credit_History  \\\n",
       "1                0.0       250.0             120.0             0.0   \n",
       "2                0.0       100.0             480.0             1.0   \n",
       "3             4000.0       150.0             360.0             0.0   \n",
       "4                0.0       300.0              60.0             1.0   \n",
       "5             5000.0       400.0              36.0             1.0   \n",
       "\n",
       "  Property_Area  \n",
       "1     Semiurban  \n",
       "2         Urban  \n",
       "3         Rural  \n",
       "4     Semiurban  \n",
       "5         Urban  "
      ]
     },
     "execution_count": 8,
     "metadata": {},
     "output_type": "execute_result"
    }
   ],
   "source": [
    "data = pd.DataFrame(data)\n",
    "data"
   ]
  },
  {
   "attachments": {},
   "cell_type": "markdown",
   "metadata": {},
   "source": [
    "# Inferencing"
   ]
  },
  {
   "attachments": {},
   "cell_type": "markdown",
   "metadata": {},
   "source": [
    "Masukkan pembagian kolom"
   ]
  },
  {
   "cell_type": "code",
   "execution_count": 5,
   "metadata": {},
   "outputs": [],
   "source": [
    "num_cols = list_num_cols\n",
    "catn_cols = list_catn_cols"
   ]
  },
  {
   "attachments": {},
   "cell_type": "markdown",
   "metadata": {},
   "source": [
    "Setelah itu langsung gunakan pipeline pada data"
   ]
  },
  {
   "cell_type": "code",
   "execution_count": 9,
   "metadata": {},
   "outputs": [
    {
     "data": {
      "text/plain": [
       "array([False, False, False,  True, False])"
      ]
     },
     "execution_count": 9,
     "metadata": {},
     "output_type": "execute_result"
    }
   ],
   "source": [
    "y_pred = best_model_dtr.predict(data) # Jalankan model\n",
    "y_pred # hasil dari model"
   ]
  },
  {
   "attachments": {},
   "cell_type": "markdown",
   "metadata": {},
   "source": [
    "Masukkan hasil dari model ke dalam kolom baru di DataFrame data"
   ]
  },
  {
   "cell_type": "code",
   "execution_count": 10,
   "metadata": {},
   "outputs": [
    {
     "data": {
      "text/html": [
       "<div>\n",
       "<style scoped>\n",
       "    .dataframe tbody tr th:only-of-type {\n",
       "        vertical-align: middle;\n",
       "    }\n",
       "\n",
       "    .dataframe tbody tr th {\n",
       "        vertical-align: top;\n",
       "    }\n",
       "\n",
       "    .dataframe thead th {\n",
       "        text-align: right;\n",
       "    }\n",
       "</style>\n",
       "<table border=\"1\" class=\"dataframe\">\n",
       "  <thead>\n",
       "    <tr style=\"text-align: right;\">\n",
       "      <th></th>\n",
       "      <th>Gender</th>\n",
       "      <th>Married</th>\n",
       "      <th>Dependents</th>\n",
       "      <th>Education</th>\n",
       "      <th>Self_Employed</th>\n",
       "      <th>ApplicantIncome</th>\n",
       "      <th>CoapplicantIncome</th>\n",
       "      <th>LoanAmount</th>\n",
       "      <th>Loan_Amount_Term</th>\n",
       "      <th>Credit_History</th>\n",
       "      <th>Property_Area</th>\n",
       "      <th>Loan_Status</th>\n",
       "    </tr>\n",
       "  </thead>\n",
       "  <tbody>\n",
       "    <tr>\n",
       "      <th>1</th>\n",
       "      <td>Female</td>\n",
       "      <td>No</td>\n",
       "      <td>1</td>\n",
       "      <td>Not Graduate</td>\n",
       "      <td>Yes</td>\n",
       "      <td>7035</td>\n",
       "      <td>0.0</td>\n",
       "      <td>250.0</td>\n",
       "      <td>120.0</td>\n",
       "      <td>0.0</td>\n",
       "      <td>Semiurban</td>\n",
       "      <td>False</td>\n",
       "    </tr>\n",
       "    <tr>\n",
       "      <th>2</th>\n",
       "      <td>Male</td>\n",
       "      <td>No</td>\n",
       "      <td>2</td>\n",
       "      <td>Graduate</td>\n",
       "      <td>No</td>\n",
       "      <td>2500</td>\n",
       "      <td>0.0</td>\n",
       "      <td>100.0</td>\n",
       "      <td>480.0</td>\n",
       "      <td>1.0</td>\n",
       "      <td>Urban</td>\n",
       "      <td>False</td>\n",
       "    </tr>\n",
       "    <tr>\n",
       "      <th>3</th>\n",
       "      <td>Female</td>\n",
       "      <td>Yes</td>\n",
       "      <td>0</td>\n",
       "      <td>Not Graduate</td>\n",
       "      <td>Yes</td>\n",
       "      <td>3000</td>\n",
       "      <td>4000.0</td>\n",
       "      <td>150.0</td>\n",
       "      <td>360.0</td>\n",
       "      <td>0.0</td>\n",
       "      <td>Rural</td>\n",
       "      <td>False</td>\n",
       "    </tr>\n",
       "    <tr>\n",
       "      <th>4</th>\n",
       "      <td>Male</td>\n",
       "      <td>No</td>\n",
       "      <td>0</td>\n",
       "      <td>Not Graduate</td>\n",
       "      <td>No</td>\n",
       "      <td>2000</td>\n",
       "      <td>0.0</td>\n",
       "      <td>300.0</td>\n",
       "      <td>60.0</td>\n",
       "      <td>1.0</td>\n",
       "      <td>Semiurban</td>\n",
       "      <td>True</td>\n",
       "    </tr>\n",
       "    <tr>\n",
       "      <th>5</th>\n",
       "      <td>Male</td>\n",
       "      <td>Yes</td>\n",
       "      <td>3+</td>\n",
       "      <td>Graduate</td>\n",
       "      <td>No</td>\n",
       "      <td>4500</td>\n",
       "      <td>5000.0</td>\n",
       "      <td>400.0</td>\n",
       "      <td>36.0</td>\n",
       "      <td>1.0</td>\n",
       "      <td>Urban</td>\n",
       "      <td>False</td>\n",
       "    </tr>\n",
       "  </tbody>\n",
       "</table>\n",
       "</div>"
      ],
      "text/plain": [
       "   Gender Married Dependents     Education Self_Employed  ApplicantIncome  \\\n",
       "1  Female      No          1  Not Graduate           Yes             7035   \n",
       "2    Male      No          2      Graduate            No             2500   \n",
       "3  Female     Yes          0  Not Graduate           Yes             3000   \n",
       "4    Male      No          0  Not Graduate            No             2000   \n",
       "5    Male     Yes         3+      Graduate            No             4500   \n",
       "\n",
       "   CoapplicantIncome  LoanAmount  Loan_Amount_Term  Credit_History  \\\n",
       "1                0.0       250.0             120.0             0.0   \n",
       "2                0.0       100.0             480.0             1.0   \n",
       "3             4000.0       150.0             360.0             0.0   \n",
       "4                0.0       300.0              60.0             1.0   \n",
       "5             5000.0       400.0              36.0             1.0   \n",
       "\n",
       "  Property_Area  Loan_Status  \n",
       "1     Semiurban        False  \n",
       "2         Urban        False  \n",
       "3         Rural        False  \n",
       "4     Semiurban         True  \n",
       "5         Urban        False  "
      ]
     },
     "execution_count": 10,
     "metadata": {},
     "output_type": "execute_result"
    }
   ],
   "source": [
    "data[\"Loan_Status\"] = y_pred # kolom baru dari hasil model\n",
    "data"
   ]
  }
 ],
 "metadata": {
  "kernelspec": {
   "display_name": "base",
   "language": "python",
   "name": "python3"
  },
  "language_info": {
   "codemirror_mode": {
    "name": "ipython",
    "version": 3
   },
   "file_extension": ".py",
   "mimetype": "text/x-python",
   "name": "python",
   "nbconvert_exporter": "python",
   "pygments_lexer": "ipython3",
   "version": "3.9.13"
  },
  "orig_nbformat": 4
 },
 "nbformat": 4,
 "nbformat_minor": 2
}
